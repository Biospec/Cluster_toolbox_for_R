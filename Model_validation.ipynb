{
 "cells": [
  {
   "cell_type": "markdown",
   "metadata": {},
   "source": [
    "# Notebook for using modelvalidation and modeltune to validate supervised predictive models\n",
    "This is a template Jupyter notebook for using modelvalidation() and modeltune() functions to optimise and supervised predictive models.\n",
    "\n",
    "For each code cell, there is an indicator says \"In [ ]\". This shows status of the cell. If there is noting inside \"[ ]\" it means this cell has not been evaluated yet; if there is a \"\\*\" inside \"[ ]\" it means that this cell is currently being evaluated and the R kernel is busy (i.e. you should wait); if there is a number inside \"[ ]\", e.g. \"[1]\", it means that the current cell has already been evaluated. Place cursor anywhere in the cell (by mouse clicking) or highlight the cell by pressing up/down arrow key and press shift-enter to run it.\n",
    "\n",
    "__It is advisable to reset this notebook before you run it to clear remainants from previous analysis. Click menu \"Kernel\" -> \"Restart Kernel and Clear all Outputs\".__"
   ]
  },
  {
   "cell_type": "markdown",
   "metadata": {},
   "source": [
    "# 1. Load required libraries and functions\n",
    "\n",
    "__Note: in house pls functions (loaded from modelling_tools.R) are used in this notebook. Validation functions are stored in validation.R, can be loaded separately if use other modelling functions__"
   ]
  },
  {
   "cell_type": "code",
   "execution_count": 13,
   "metadata": {},
   "outputs": [],
   "source": [
    "library(caret)\n",
    "library(permute)\n",
    "library(pracma)\n",
    "source(\"https://raw.githubusercontent.com/Biospec/Cluster_toolbox_for_R/master/modelling_tools.R\")\n",
    "source(\"https://raw.githubusercontent.com/Biospec/Cluster_toolbox_for_R/master/validation.R\")"
   ]
  },
  {
   "cell_type": "markdown",
   "metadata": {},
   "source": [
    "# 2. Set work directory to where the data are sotred and load the data.\n",
    "In this example, data matrix is stored in data_reg.csv and the concentrations are stored in conc_reg.csv. These two files are stored under folder \"~/Dropbox/biospec/\". Change accordingly to fit your own data."
   ]
  },
  {
   "cell_type": "code",
   "execution_count": 2,
   "metadata": {},
   "outputs": [],
   "source": [
    "setwd(\"~/Dropbox/biospec\")\n",
    "x <- read.csv(\"data_reg.csv\", header = FALSE)\n",
    "y <- read.csv(\"conc_reg.csv\", header = FALSE)"
   ]
  },
  {
   "cell_type": "markdown",
   "metadata": {},
   "source": [
    "# 3. Model selection and validation\n",
    "\n",
    "## 3.1 Set parameters for modeltune():\n",
    "\n",
    "train_fun: the name of model training function, e.g. pls for partial least squares.\n",
    "\n",
    "pred_fun: the prediction function which apply test data to the trained model, e.g. plspred.\n",
    "\n",
    "eval_type = \"R\", the type of prediction, can be \"R\" for regression and \"C\" for classification, set to \"R\" by default.\n",
    "\n",
    "X, Y: the name of variables of the data matrix X and the label vector/matrix Y.\n",
    "\n",
    "model_parameters: the range of model parameters to be tuned, e.g. for PLS the number of PLS component\n",
    "\n",
    "__The example line below train a pls regression model on the data stored in x with labels in y, the number of PLS components to be tested is set from 1 to 20.__"
   ]
  },
  {
   "cell_type": "code",
   "execution_count": 3,
   "metadata": {},
   "outputs": [],
   "source": [
    "plsr_tuned <- modeltune(train_fun = pls, pred_fun = plspred, X = x, Y = y, \n",
    "                        model_parameters = list(lv = 1:20)) \n",
    "#the model parameters are to be stored in a paired list with the name and possible \n",
    "#choices, PLS model only require one parameter: the number of latent variables (LV)\n",
    "#1:20 means testing the model with 1 to 20 latent variables and chose one with lowest\n",
    "#CV error. \n"
   ]
  },
  {
   "cell_type": "code",
   "execution_count": 19,
   "metadata": {},
   "outputs": [
    {
     "name": "stdout",
     "output_type": "stream",
     "text": [
      "$lv\n",
      "[1] 10\n",
      "\n",
      "$Xmc\n",
      "[1] FALSE\n",
      "\n",
      "$Ymc\n",
      "[1] FALSE\n",
      "\n",
      "$Xscale\n",
      "[1] FALSE\n",
      "\n",
      "attr(,\"out.attrs\")\n",
      "attr(,\"out.attrs\")$dim\n",
      "    lv    Xmc    Ymc Xscale \n",
      "    20      2      2      2 \n",
      "\n",
      "attr(,\"out.attrs\")$dimnames\n",
      "attr(,\"out.attrs\")$dimnames$lv\n",
      " [1] \"lv= 1\" \"lv= 2\" \"lv= 3\" \"lv= 4\" \"lv= 5\" \"lv= 6\" \"lv= 7\" \"lv= 8\" \"lv= 9\"\n",
      "[10] \"lv=10\" \"lv=11\" \"lv=12\" \"lv=13\" \"lv=14\" \"lv=15\" \"lv=16\" \"lv=17\" \"lv=18\"\n",
      "[19] \"lv=19\" \"lv=20\"\n",
      "\n",
      "attr(,\"out.attrs\")$dimnames$Xmc\n",
      "[1] \"Xmc=TRUE\"  \"Xmc=FALSE\"\n",
      "\n",
      "attr(,\"out.attrs\")$dimnames$Ymc\n",
      "[1] \"Ymc=TRUE\"  \"Ymc=FALSE\"\n",
      "\n",
      "attr(,\"out.attrs\")$dimnames$Xscale\n",
      "[1] \"Xscale=TRUE\"  \"Xscale=FALSE\"\n",
      "\n",
      "\n"
     ]
    }
   ],
   "source": [
    "# Examine the results\n",
    "print(plsr_tuned$opt_parameters) # Optimal model parameter"
   ]
  },
  {
   "cell_type": "code",
   "execution_count": 20,
   "metadata": {},
   "outputs": [
    {
     "name": "stdout",
     "output_type": "stream",
     "text": [
      "      r2cv     rmsecv \n",
      " 0.9549312 46.3795992 \n"
     ]
    }
   ],
   "source": [
    "print(plsr_tuned$opt_results) # Optimal predictive accuracy"
   ]
  },
  {
   "cell_type": "markdown",
   "metadata": {},
   "source": [
    "__A more complicated tunning: including chosing whether to perform mean centring on X and Y block, whether to perform autoscaling on X block, pay attention to additional parameter choices added to model_parameters__"
   ]
  },
  {
   "cell_type": "code",
   "execution_count": 5,
   "metadata": {},
   "outputs": [],
   "source": [
    "plsr_tuned <- modeltune(train_fun = pls, pred_fun = plspred, X = x, Y = y,\n",
    "                        model_parameters = list(lv = 1:20, Xmc = c(TRUE, FALSE),\n",
    "                                                Ymc = c(TRUE, FALSE), Xscale = \n",
    "                                                  c(TRUE, FALSE)))"
   ]
  },
  {
   "cell_type": "code",
   "execution_count": 6,
   "metadata": {},
   "outputs": [
    {
     "name": "stdout",
     "output_type": "stream",
     "text": [
      "$lv\n",
      "[1] 10\n",
      "\n",
      "$Xmc\n",
      "[1] FALSE\n",
      "\n",
      "$Ymc\n",
      "[1] FALSE\n",
      "\n",
      "$Xscale\n",
      "[1] FALSE\n",
      "\n",
      "attr(,\"out.attrs\")\n",
      "attr(,\"out.attrs\")$dim\n",
      "    lv    Xmc    Ymc Xscale \n",
      "    20      2      2      2 \n",
      "\n",
      "attr(,\"out.attrs\")$dimnames\n",
      "attr(,\"out.attrs\")$dimnames$lv\n",
      " [1] \"lv= 1\" \"lv= 2\" \"lv= 3\" \"lv= 4\" \"lv= 5\" \"lv= 6\" \"lv= 7\" \"lv= 8\" \"lv= 9\"\n",
      "[10] \"lv=10\" \"lv=11\" \"lv=12\" \"lv=13\" \"lv=14\" \"lv=15\" \"lv=16\" \"lv=17\" \"lv=18\"\n",
      "[19] \"lv=19\" \"lv=20\"\n",
      "\n",
      "attr(,\"out.attrs\")$dimnames$Xmc\n",
      "[1] \"Xmc=TRUE\"  \"Xmc=FALSE\"\n",
      "\n",
      "attr(,\"out.attrs\")$dimnames$Ymc\n",
      "[1] \"Ymc=TRUE\"  \"Ymc=FALSE\"\n",
      "\n",
      "attr(,\"out.attrs\")$dimnames$Xscale\n",
      "[1] \"Xscale=TRUE\"  \"Xscale=FALSE\"\n",
      "\n",
      "\n",
      "      r2cv     rmsecv \n",
      " 0.9549312 46.3795992 \n"
     ]
    }
   ],
   "source": [
    "print(plsr_tuned$opt_parameters)\n",
    "print(plsr_tuned$opt_results)"
   ]
  },
  {
   "cell_type": "markdown",
   "metadata": {},
   "source": [
    "__Now optimising SVM-regression from e1071 package__\n",
    "\n",
    "This example try SVR with linear kernel, with 10 different settings to each kernel parameter respectively (a lot of combinations, will take a while to finish.)."
   ]
  },
  {
   "cell_type": "code",
   "execution_count": 12,
   "metadata": {},
   "outputs": [],
   "source": [
    "library(e1071)\n",
    "svm_tuned <- modeltune(train_fun = svm, pred_fun = predict, X = x, Y = y,\n",
    "                       model_parameters = list(type = 'eps-regression', kernel = 'linear', \n",
    "                                               cost = logspace(-3,2,10), epsilon = logspace(-6,0,10)))"
   ]
  },
  {
   "cell_type": "code",
   "execution_count": 14,
   "metadata": {},
   "outputs": [
    {
     "name": "stdout",
     "output_type": "stream",
     "text": [
      "$type\n",
      "[1] eps-regression\n",
      "Levels: eps-regression\n",
      "\n",
      "$kernel\n",
      "[1] linear\n",
      "Levels: linear\n",
      "\n",
      "$cost\n",
      "[1] 0.5994843\n",
      "\n",
      "$epsilon\n",
      "[1] 0.01\n",
      "\n",
      "attr(,\"out.attrs\")\n",
      "attr(,\"out.attrs\")$dim\n",
      "   type  kernel    cost epsilon \n",
      "      1       1      10      10 \n",
      "\n",
      "attr(,\"out.attrs\")$dimnames\n",
      "attr(,\"out.attrs\")$dimnames$type\n",
      "[1] \"type=eps-regression\"\n",
      "\n",
      "attr(,\"out.attrs\")$dimnames$kernel\n",
      "[1] \"kernel=linear\"\n",
      "\n",
      "attr(,\"out.attrs\")$dimnames$cost\n",
      " [1] \"cost=1.000000e-03\" \"cost=3.593814e-03\" \"cost=1.291550e-02\"\n",
      " [4] \"cost=4.641589e-02\" \"cost=1.668101e-01\" \"cost=5.994843e-01\"\n",
      " [7] \"cost=2.154435e+00\" \"cost=7.742637e+00\" \"cost=2.782559e+01\"\n",
      "[10] \"cost=1.000000e+02\"\n",
      "\n",
      "attr(,\"out.attrs\")$dimnames$epsilon\n",
      " [1] \"epsilon=1.000000e-06\" \"epsilon=4.641589e-06\" \"epsilon=2.154435e-05\"\n",
      " [4] \"epsilon=1.000000e-04\" \"epsilon=4.641589e-04\" \"epsilon=2.154435e-03\"\n",
      " [7] \"epsilon=1.000000e-02\" \"epsilon=4.641589e-02\" \"epsilon=2.154435e-01\"\n",
      "[10] \"epsilon=1.000000e+00\"\n",
      "\n",
      "\n"
     ]
    }
   ],
   "source": [
    "print(svm_tuned$opt_parameters)"
   ]
  },
  {
   "cell_type": "code",
   "execution_count": 15,
   "metadata": {},
   "outputs": [
    {
     "name": "stdout",
     "output_type": "stream",
     "text": [
      "      r2cv     rmsecv \n",
      " 0.9037327 67.7842106 \n"
     ]
    }
   ],
   "source": [
    "print(svm_tuned$opt_results)        "
   ]
  },
  {
   "cell_type": "markdown",
   "metadata": {},
   "source": [
    "## 3.2 Model validation\n",
    "\n",
    "modelvalidation() has a few additional parameters which have been set by a set of default values as follows:\n",
    "\n",
    "    resample_method = \"boots\", select the resampling method, can be either \"boots\" or \"crossval\" for bootstrapping and cross-validation, \"boots\" by default.\n",
    "\n",
    "    k= 1000, a positive number, the number of iterations of bootstrapping or the number of folds of cross-validation. If resample_method = \"crossval\" and k >= no. of samples then leave-one-out crossvalidation will be performed.\n",
    "\n",
    "    cv_perm = FALSE, control whether to perform a permutation of the orders of samples before crossvalidation (to make cross-validation less deterministic).\n",
    "\n",
    "    perm_test = FALSE, control whether to perform a paired permutation test and assess the significance level of the model aganst NULL data."
   ]
  },
  {
   "cell_type": "code",
   "execution_count": 16,
   "metadata": {},
   "outputs": [],
   "source": [
    "plsr_validated <- modelvalidation(train_fun = pls, pred_fun = plspred, eval_type = 'R',\n",
    "                                   resample_method = 'boots', k= 100, X = x, Y = y, \n",
    "                                   model_parameters = list(lv = 1:20)) #100 bootstrapping validations"
   ]
  },
  {
   "cell_type": "code",
   "execution_count": 17,
   "metadata": {},
   "outputs": [
    {
     "name": "stdout",
     "output_type": "stream",
     "text": [
      "[1] 57.87082\n"
     ]
    }
   ],
   "source": [
    "print(median(plsr_validated$RMSEP))"
   ]
  },
  {
   "cell_type": "code",
   "execution_count": 18,
   "metadata": {},
   "outputs": [
    {
     "name": "stdout",
     "output_type": "stream",
     "text": [
      "[1] 0.8706725\n"
     ]
    }
   ],
   "source": [
    "print(median(plsr_validated$R2P))"
   ]
  }
 ],
 "metadata": {
  "kernelspec": {
   "display_name": "R 3.4.3",
   "language": "R",
   "name": "ir34"
  },
  "language_info": {
   "codemirror_mode": "r",
   "file_extension": ".r",
   "mimetype": "text/x-r-source",
   "name": "R",
   "pygments_lexer": "r",
   "version": "3.4.3"
  }
 },
 "nbformat": 4,
 "nbformat_minor": 2
}
